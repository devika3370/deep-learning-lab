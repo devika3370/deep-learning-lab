{
 "cells": [
  {
   "cell_type": "markdown",
   "metadata": {},
   "source": [
    "## Tensors\n",
    "Tensors are a specialized data structure similar to arrays and matrices. Tensors run on GPUs and other hardware accelerators. Tensors are optimized for automatic differentiation."
   ]
  },
  {
   "cell_type": "code",
   "execution_count": 3,
   "metadata": {},
   "outputs": [],
   "source": [
    "import torch\n",
    "import numpy as np"
   ]
  },
  {
   "cell_type": "markdown",
   "metadata": {},
   "source": [
    "### Initialize a Tensor"
   ]
  },
  {
   "cell_type": "code",
   "execution_count": 12,
   "metadata": {},
   "outputs": [
    {
     "name": "stdout",
     "output_type": "stream",
     "text": [
      "tensor([[1, 2],\n",
      "        [3, 4]])\n",
      "tensor([[1, 2],\n",
      "        [3, 4]], dtype=torch.int32)\n",
      "tensor([[0, 0],\n",
      "        [0, 0]])\n",
      "tensor([[1, 1],\n",
      "        [1, 1]])\n",
      "tensor([[0.5473, 0.7935],\n",
      "        [0.9194, 0.7955]])\n"
     ]
    }
   ],
   "source": [
    "# Method 1: From data\n",
    "data = [[1,2], [3,4]]\n",
    "x_data = torch.tensor(data)\n",
    "print(x_data)\n",
    "\n",
    "# Method 2: From NumPy array\n",
    "np_array = np.array(data)\n",
    "x_np = torch.from_numpy(np_array)\n",
    "print(x_np)\n",
    "\n",
    "# Method 3: Ones tensor, zeros tensor\n",
    "x_ones = torch.ones_like(x_data) # it will retain the properties of x_data\n",
    "x_zeros = torch.zeros_like(x_data)\n",
    "print(x_zeros)\n",
    "print(x_ones)\n",
    "\n",
    "# Method 4: Random tensor\n",
    "x_rand_float = torch.rand_like(x_data, dtype=torch.float)\n",
    "print(x_rand_float)"
   ]
  },
  {
   "cell_type": "code",
   "execution_count": 15,
   "metadata": {},
   "outputs": [
    {
     "name": "stdout",
     "output_type": "stream",
     "text": [
      "tensor([[1., 1., 1.],\n",
      "        [1., 1., 1.]])\n",
      "shape= torch.Size([2, 3])\n",
      "data type= torch.float32\n",
      "device= cpu\n"
     ]
    }
   ],
   "source": [
    "# Create a tensor of a particular shape\n",
    "shape = (2,3,)\n",
    "ones_tensor = torch.ones(shape)\n",
    "print(ones_tensor)\n",
    "print(\"shape=\", ones_tensor.shape)\n",
    "print(\"data type=\", ones_tensor.dtype)\n",
    "print(\"device=\", ones_tensor.device)"
   ]
  },
  {
   "cell_type": "markdown",
   "metadata": {},
   "source": [
    "### Operations on Tensors"
   ]
  },
  {
   "cell_type": "code",
   "execution_count": 17,
   "metadata": {},
   "outputs": [],
   "source": [
    "# Move to GPU\n",
    "if torch.cuda.is_available():\n",
    "    print(\"It's available!\")\n",
    "    tensor = ones_tensor.to('cuda')"
   ]
  },
  {
   "cell_type": "code",
   "execution_count": 29,
   "metadata": {},
   "outputs": [
    {
     "name": "stdout",
     "output_type": "stream",
     "text": [
      "tensor([[0.2348, 0.4610, 0.0095, 0.6881],\n",
      "        [0.4633, 0.5565, 0.5750, 0.9090],\n",
      "        [0.4819, 0.0969, 0.1538, 0.6061],\n",
      "        [0.7819, 0.5194, 0.1380, 0.7683]])\n",
      "\n",
      "\n",
      "First row =  tensor([0.2348, 0.4610, 0.0095, 0.6881])\n",
      "First column =  tensor([0.2348, 0.4633, 0.4819, 0.7819])\n",
      "Last column =  tensor([0.6881, 0.9090, 0.6061, 0.7683])\n",
      "\n",
      "\n",
      "Last two columns =  tensor([[0.0095, 0.6881],\n",
      "        [0.5750, 0.9090],\n",
      "        [0.1538, 0.6061],\n",
      "        [0.1380, 0.7683]])\n",
      "Middle two rows =  tensor([[0.4633, 0.5565, 0.5750, 0.9090],\n",
      "        [0.4819, 0.0969, 0.1538, 0.6061]])\n"
     ]
    }
   ],
   "source": [
    "# Slicing\n",
    "tensor = torch.rand(4,4)\n",
    "print(tensor)\n",
    "print(\"\\n\")\n",
    "\n",
    "print(\"First row = \", tensor[0])\n",
    "print(\"First column = \", tensor[:, 0])\n",
    "print(\"Last column = \", tensor[:, 3])\n",
    "print(\"\\n\")\n",
    "\n",
    "print(\"Last two columns = \", tensor[:, 2:4])\n",
    "print(\"Middle two rows = \", tensor[1:3])\n",
    "\n"
   ]
  },
  {
   "cell_type": "code",
   "execution_count": 33,
   "metadata": {},
   "outputs": [
    {
     "name": "stdout",
     "output_type": "stream",
     "text": [
      "tensor([[0.2348, 0.4610, 0.0095, 0.6881],\n",
      "        [0.4633, 0.5565, 0.5750, 0.9090],\n",
      "        [0.4819, 0.0969, 0.1538, 0.6061],\n",
      "        [0.7819, 0.5194, 0.1380, 0.7683],\n",
      "        [0.2348, 0.4610, 0.0095, 0.6881],\n",
      "        [0.4633, 0.5565, 0.5750, 0.9090],\n",
      "        [0.4819, 0.0969, 0.1538, 0.6061],\n",
      "        [0.7819, 0.5194, 0.1380, 0.7683]])\n",
      "\n",
      "\n",
      "tensor([[0.2348, 0.4610, 0.0095, 0.6881, 0.2348, 0.4610, 0.0095, 0.6881],\n",
      "        [0.4633, 0.5565, 0.5750, 0.9090, 0.4633, 0.5565, 0.5750, 0.9090],\n",
      "        [0.4819, 0.0969, 0.1538, 0.6061, 0.4819, 0.0969, 0.1538, 0.6061],\n",
      "        [0.7819, 0.5194, 0.1380, 0.7683, 0.7819, 0.5194, 0.1380, 0.7683]])\n"
     ]
    }
   ],
   "source": [
    "# Concatenate\n",
    "\n",
    "# Vertical Stacking\n",
    "t1 = torch.concat([tensor, tensor], dim=0)\n",
    "print(t1)\n",
    "print(\"\\n\")\n",
    "\n",
    "# Horizontal stacking\n",
    "t2 = torch.concat([tensor, tensor], dim=1)\n",
    "print(t2)"
   ]
  },
  {
   "cell_type": "code",
   "execution_count": 36,
   "metadata": {},
   "outputs": [
    {
     "name": "stdout",
     "output_type": "stream",
     "text": [
      "Original tensor =  tensor([[0.2348, 0.4610, 0.0095, 0.6881],\n",
      "        [0.4633, 0.5565, 0.5750, 0.9090],\n",
      "        [0.4819, 0.0969, 0.1538, 0.6061],\n",
      "        [0.7819, 0.5194, 0.1380, 0.7683]])\n",
      "Transposed tensor =  tensor([[0.2348, 0.4633, 0.4819, 0.7819],\n",
      "        [0.4610, 0.5565, 0.0969, 0.5194],\n",
      "        [0.0095, 0.5750, 0.1538, 0.1380],\n",
      "        [0.6881, 0.9090, 0.6061, 0.7683]])\n",
      "y1 =  tensor([[0.7412, 0.9962, 0.5763, 0.9530],\n",
      "        [0.9962, 1.6812, 0.9165, 1.4290],\n",
      "        [0.5763, 0.9165, 0.6326, 0.9140],\n",
      "        [0.9530, 1.4290, 0.9140, 1.4905]])\n"
     ]
    }
   ],
   "source": [
    "# Arithmetic Operations\n",
    "\n",
    "# Matrix Multiplication\n",
    "print(\"Original tensor = \", tensor)\n",
    "print(\"Transposed tensor = \", tensor.T)\n",
    "y1 = tensor @ tensor.T\n",
    "print(\"y1 = \", y1)\n",
    "y2 = tensor.matmul(tensor.T)\n",
    "y3 = torch.rand_like(tensor)\n",
    "y3 = torch.matmul(tensor, tensor.T, out=y3)"
   ]
  },
  {
   "cell_type": "code",
   "execution_count": 39,
   "metadata": {},
   "outputs": [
    {
     "data": {
      "text/plain": [
       "tensor([[5.5151e-02, 2.1255e-01, 8.9646e-05, 4.7343e-01],\n",
       "        [2.1461e-01, 3.0972e-01, 3.3062e-01, 8.2622e-01],\n",
       "        [2.3223e-01, 9.3903e-03, 2.3649e-02, 3.6735e-01],\n",
       "        [6.1144e-01, 2.6975e-01, 1.9052e-02, 5.9027e-01]])"
      ]
     },
     "execution_count": 39,
     "metadata": {},
     "output_type": "execute_result"
    }
   ],
   "source": [
    "# Element wise product\n",
    "z1 = tensor * tensor\n",
    "z2 = tensor.mul(tensor)\n",
    "z3 = torch.rand_like(tensor)\n",
    "torch.mul(tensor, tensor, out=z3)"
   ]
  },
  {
   "cell_type": "code",
   "execution_count": 41,
   "metadata": {},
   "outputs": [
    {
     "name": "stdout",
     "output_type": "stream",
     "text": [
      "tensor(7.4435)\n",
      "<class 'torch.Tensor'>\n",
      "7.443466663360596\n",
      "<class 'float'>\n"
     ]
    }
   ],
   "source": [
    "# Single element tensors\n",
    "s1 = tensor.sum()\n",
    "print(s1)\n",
    "print(type(s1))\n",
    "\n",
    "s1_item = s1.item()\n",
    "print(s1_item)\n",
    "print(type(s1_item))"
   ]
  },
  {
   "cell_type": "code",
   "execution_count": 42,
   "metadata": {},
   "outputs": [
    {
     "name": "stdout",
     "output_type": "stream",
     "text": [
      "tensor([[0.2348, 0.4610, 0.0095, 0.6881],\n",
      "        [0.4633, 0.5565, 0.5750, 0.9090],\n",
      "        [0.4819, 0.0969, 0.1538, 0.6061],\n",
      "        [0.7819, 0.5194, 0.1380, 0.7683]])\n",
      "tensor([[1.2348, 1.4610, 1.0095, 1.6881],\n",
      "        [1.4633, 1.5565, 1.5750, 1.9090],\n",
      "        [1.4819, 1.0969, 1.1538, 1.6061],\n",
      "        [1.7819, 1.5194, 1.1380, 1.7683]])\n"
     ]
    }
   ],
   "source": [
    "# In place operations\n",
    "# Denoted by _\n",
    "print(tensor)\n",
    "tensor.add_(1)\n",
    "print(tensor)"
   ]
  },
  {
   "cell_type": "code",
   "execution_count": 44,
   "metadata": {},
   "outputs": [
    {
     "name": "stdout",
     "output_type": "stream",
     "text": [
      "tensor([1., 1., 1., 1., 1.])\n",
      "<class 'torch.Tensor'>\n",
      "[1. 1. 1. 1. 1.]\n",
      "<class 'numpy.ndarray'>\n",
      "tensor([2., 2., 2., 2., 2.])\n",
      "[2. 2. 2. 2. 2.]\n"
     ]
    }
   ],
   "source": [
    "# Tensor to Numpy\n",
    "t = torch.ones(5)\n",
    "print(t)\n",
    "print(type(t))\n",
    "\n",
    "n = t.numpy()\n",
    "print(n)\n",
    "print(type(n))\n",
    "\n",
    "# Any change in t reflects in n\n",
    "t.add_(1)\n",
    "print(t)\n",
    "print(n)"
   ]
  },
  {
   "cell_type": "code",
   "execution_count": 45,
   "metadata": {},
   "outputs": [
    {
     "name": "stdout",
     "output_type": "stream",
     "text": [
      "[1.]\n",
      "<class 'numpy.ndarray'>\n",
      "tensor([1.], dtype=torch.float64)\n",
      "<class 'torch.Tensor'>\n",
      "tensor([2.], dtype=torch.float64)\n",
      "[2.]\n"
     ]
    }
   ],
   "source": [
    "# Numpy to Tensor\n",
    "n = np.ones(1)\n",
    "print(n)\n",
    "print(type(n))\n",
    "\n",
    "t = torch.from_numpy(n)\n",
    "print(t)\n",
    "print(type(t))\n",
    "\n",
    "np.add(n, 1, out=n)\n",
    "print(t)\n",
    "print(n)"
   ]
  }
 ],
 "metadata": {
  "kernelspec": {
   "display_name": "adl_env",
   "language": "python",
   "name": "python3"
  },
  "language_info": {
   "codemirror_mode": {
    "name": "ipython",
    "version": 3
   },
   "file_extension": ".py",
   "mimetype": "text/x-python",
   "name": "python",
   "nbconvert_exporter": "python",
   "pygments_lexer": "ipython3",
   "version": "3.12.1"
  }
 },
 "nbformat": 4,
 "nbformat_minor": 2
}
